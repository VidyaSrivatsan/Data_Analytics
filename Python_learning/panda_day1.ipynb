{
 "cells": [
  {
   "cell_type": "code",
   "execution_count": 75,
   "metadata": {},
   "outputs": [
    {
     "data": {
      "text/html": [
       "<div>\n",
       "<style scoped>\n",
       "    .dataframe tbody tr th:only-of-type {\n",
       "        vertical-align: middle;\n",
       "    }\n",
       "\n",
       "    .dataframe tbody tr th {\n",
       "        vertical-align: top;\n",
       "    }\n",
       "\n",
       "    .dataframe thead th {\n",
       "        text-align: right;\n",
       "    }\n",
       "</style>\n",
       "<table border=\"1\" class=\"dataframe\">\n",
       "  <thead>\n",
       "    <tr style=\"text-align: right;\">\n",
       "      <th></th>\n",
       "      <th>ProductID</th>\n",
       "      <th>Zip</th>\n",
       "      <th>Units</th>\n",
       "      <th>Revenue</th>\n",
       "      <th>Country</th>\n",
       "    </tr>\n",
       "    <tr>\n",
       "      <th>Date</th>\n",
       "      <th></th>\n",
       "      <th></th>\n",
       "      <th></th>\n",
       "      <th></th>\n",
       "      <th></th>\n",
       "    </tr>\n",
       "  </thead>\n",
       "  <tbody>\n",
       "    <tr>\n",
       "      <th>1999-01-15</th>\n",
       "      <td>726</td>\n",
       "      <td>75056 CEDEX 01</td>\n",
       "      <td>1</td>\n",
       "      <td>115.45</td>\n",
       "      <td>France</td>\n",
       "    </tr>\n",
       "    <tr>\n",
       "      <th>1999-01-15</th>\n",
       "      <td>1909</td>\n",
       "      <td>75056 CEDEX 01</td>\n",
       "      <td>2</td>\n",
       "      <td>398.90</td>\n",
       "      <td>France</td>\n",
       "    </tr>\n",
       "    <tr>\n",
       "      <th>1999-02-15</th>\n",
       "      <td>1961</td>\n",
       "      <td>75056 CEDEX 01</td>\n",
       "      <td>1</td>\n",
       "      <td>97.07</td>\n",
       "      <td>France</td>\n",
       "    </tr>\n",
       "    <tr>\n",
       "      <th>1999-02-15</th>\n",
       "      <td>1517</td>\n",
       "      <td>75056 CEDEX 01</td>\n",
       "      <td>1</td>\n",
       "      <td>141.65</td>\n",
       "      <td>France</td>\n",
       "    </tr>\n",
       "  </tbody>\n",
       "</table>\n",
       "</div>"
      ],
      "text/plain": [
       "            ProductID             Zip  Units  Revenue Country\n",
       "Date                                                         \n",
       "1999-01-15        726  75056 CEDEX 01      1   115.45  France\n",
       "1999-01-15       1909  75056 CEDEX 01      2   398.90  France\n",
       "1999-02-15       1961  75056 CEDEX 01      1    97.07  France\n",
       "1999-02-15       1517  75056 CEDEX 01      1   141.65  France"
      ]
     },
     "execution_count": 75,
     "metadata": {},
     "output_type": "execute_result"
    }
   ],
   "source": [
    "import pandas as pd\n",
    "import numpy as np\n",
    "df = pd.read_csv(\"FR Sales.csv\", parse_dates=[\"Date\"])\n",
    "df.set_index('Date', inplace=True)\n",
    "df"
   ]
  },
  {
   "cell_type": "code",
   "execution_count": 81,
   "metadata": {},
   "outputs": [
    {
     "ename": "SyntaxError",
     "evalue": "invalid syntax (Temp/ipykernel_10664/207831064.py, line 2)",
     "output_type": "error",
     "traceback": [
      "\u001b[1;36m  File \u001b[1;32m\"C:\\Users\\z002u5mp\\AppData\\Local\\Temp/ipykernel_10664/207831064.py\"\u001b[1;36m, line \u001b[1;32m2\u001b[0m\n\u001b[1;33m    df\u001b[0m\n\u001b[1;37m    ^\u001b[0m\n\u001b[1;31mSyntaxError\u001b[0m\u001b[1;31m:\u001b[0m invalid syntax\n"
     ]
    }
   ],
   "source": [
    "df = df.replace({\"USA\" : \"UK\"})\n",
    "df"
   ]
  }
 ],
 "metadata": {
  "interpreter": {
   "hash": "b7b8cfd9ec71c111d4cd998e87727c36d622525ed19a934636ddecde2632c378"
  },
  "kernelspec": {
   "display_name": "Python 3.8.5 32-bit",
   "language": "python",
   "name": "python3"
  },
  "language_info": {
   "codemirror_mode": {
    "name": "ipython",
    "version": 3
   },
   "file_extension": ".py",
   "mimetype": "text/x-python",
   "name": "python",
   "nbconvert_exporter": "python",
   "pygments_lexer": "ipython3",
   "version": "3.8.5"
  },
  "orig_nbformat": 4
 },
 "nbformat": 4,
 "nbformat_minor": 2
}
